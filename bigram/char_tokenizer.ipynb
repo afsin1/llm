{
 "cells": [
  {
   "cell_type": "code",
   "execution_count": 1,
   "id": "3a5a6d47-b0ac-4fcc-a114-8959050120c2",
   "metadata": {},
   "outputs": [
    {
     "data": {
      "text/plain": [
       "[('<S>', 'h'),\n",
       " ('h', 'e'),\n",
       " ('e', 'l'),\n",
       " ('l', 'l'),\n",
       " ('l', 'o'),\n",
       " ('o', '<E>'),\n",
       " ('<S>', 'w'),\n",
       " ('w', 'o'),\n",
       " ('o', 'r'),\n",
       " ('r', 'l'),\n",
       " ('l', 'd'),\n",
       " ('d', '<E>')]"
      ]
     },
     "execution_count": 1,
     "metadata": {},
     "output_type": "execute_result"
    }
   ],
   "source": [
    "words = [\"hello\", \"world\"]\n",
    "b_dict = {}\n",
    "  \n",
    "for w in words:\n",
    "    chs = [\"<S>\"] + list(w) + [\"<E>\"]\n",
    "    for ch1, ch2 in zip(chs, chs[1:]):\n",
    "        biagram = ch1, ch2\n",
    "        b_dict[biagram] = b_dict.get(biagram, 0) + 1\n",
    "list(b_dict)    "
   ]
  },
  {
   "cell_type": "code",
   "execution_count": null,
   "id": "4a03427f-68ad-4582-abe0-0d049eee40b0",
   "metadata": {},
   "outputs": [],
   "source": []
  }
 ],
 "metadata": {
  "kernelspec": {
   "display_name": "Python 3 (ipykernel)",
   "language": "python",
   "name": "python3"
  },
  "language_info": {
   "codemirror_mode": {
    "name": "ipython",
    "version": 3
   },
   "file_extension": ".py",
   "mimetype": "text/x-python",
   "name": "python",
   "nbconvert_exporter": "python",
   "pygments_lexer": "ipython3",
   "version": "3.11.6"
  }
 },
 "nbformat": 4,
 "nbformat_minor": 5
}
