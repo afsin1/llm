words = ["hello", "world"]
b_dict = {}
  
for w in words:
    chs = ["<S>"] + list(w) + ["<E>"]
    for ch1, ch2 in zip(chs, chs[1:]):
        biagram = ch1, ch2
        b_dict[biagram] = b_dict.get(biagram, 0) + 1
list(b_dict)   
